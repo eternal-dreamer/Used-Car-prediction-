{
 "cells": [
  {
   "cell_type": "code",
   "execution_count": 1,
   "metadata": {},
   "outputs": [],
   "source": [
    "import pandas as pd\n",
    "import numpy as np\n",
    "import seaborn as sns\n",
    "import matplotlib.pyplot as plt"
   ]
  },
  {
   "cell_type": "markdown",
   "metadata": {},
   "source": [
    "## Reading data"
   ]
  },
  {
   "cell_type": "code",
   "execution_count": 2,
   "metadata": {},
   "outputs": [
    {
     "name": "stdout",
     "output_type": "stream",
     "text": [
      "   gender race/ethnicity parental level of education         lunch  \\\n",
      "0  female        group B           bachelor's degree      standard   \n",
      "1  female        group C                some college      standard   \n",
      "2  female        group B             master's degree      standard   \n",
      "3    male        group A          associate's degree  free/reduced   \n",
      "4    male        group C                some college      standard   \n",
      "5  female        group B          associate's degree      standard   \n",
      "6  female        group B                some college      standard   \n",
      "7    male        group B                some college  free/reduced   \n",
      "8    male        group D                 high school  free/reduced   \n",
      "9  female        group B                 high school  free/reduced   \n",
      "\n",
      "  test preparation course  math score  reading score  writing score  \n",
      "0                    none          72             72             74  \n",
      "1               completed          69             90             88  \n",
      "2                    none          90             95             93  \n",
      "3                    none          47             57             44  \n",
      "4                    none          76             78             75  \n",
      "5                    none          71             83             78  \n",
      "6               completed          88             95             92  \n",
      "7                    none          40             43             39  \n",
      "8               completed          64             64             67  \n",
      "9                    none          38             60             50  \n"
     ]
    }
   ],
   "source": [
    "#load data\n",
    "bd=pd.read_csv('StudentsPerformance.csv',sep=',')\n",
    "#Peek of data\n",
    "print(bd.head(10))"
   ]
  },
  {
   "cell_type": "markdown",
   "metadata": {},
   "source": [
    "## Descriptive Statistics"
   ]
  },
  {
   "cell_type": "code",
   "execution_count": 17,
   "metadata": {},
   "outputs": [
    {
     "name": "stdout",
     "output_type": "stream",
     "text": [
      "(1000, 8)\n",
      "gender                         object\n",
      "race/ethnicity                 object\n",
      "parental level of education    object\n",
      "lunch                          object\n",
      "test preparation course        object\n",
      "math score                      int64\n",
      "reading score                   int64\n",
      "writing score                   int64\n",
      "dtype: object\n"
     ]
    }
   ],
   "source": [
    "#shape of data\n",
    "print(bd.shape)\n",
    "# data type\n",
    "print(bd.dtypes)\n"
   ]
  },
  {
   "cell_type": "code",
   "execution_count": 18,
   "metadata": {},
   "outputs": [
    {
     "name": "stdout",
     "output_type": "stream",
     "text": [
      "Index(['gender', 'race/ethnicity', 'parental level of education', 'lunch',\n",
      "       'test preparation course', 'math score', 'reading score',\n",
      "       'writing score'],\n",
      "      dtype='object')\n"
     ]
    }
   ],
   "source": [
    "print(bd.columns)"
   ]
  },
  {
   "cell_type": "code",
   "execution_count": 19,
   "metadata": {},
   "outputs": [
    {
     "name": "stdout",
     "output_type": "stream",
     "text": [
      "gender                         0\n",
      "race/ethnicity                 0\n",
      "parental level of education    0\n",
      "lunch                          0\n",
      "test preparation course        0\n",
      "math score                     0\n",
      "reading score                  0\n",
      "writing score                  0\n",
      "dtype: int64\n"
     ]
    }
   ],
   "source": [
    "# Check whether there is missing value in any of the column \n",
    "#sum of all null values\n",
    "print(bd.isnull().sum())\n",
    "#there is no missing value"
   ]
  },
  {
   "cell_type": "code",
   "execution_count": 20,
   "metadata": {},
   "outputs": [
    {
     "name": "stdout",
     "output_type": "stream",
     "text": [
      "       math score  reading score  writing score\n",
      "count  1000.00000    1000.000000    1000.000000\n",
      "mean     66.08900      69.169000      68.054000\n",
      "std      15.16308      14.600192      15.195657\n",
      "min       0.00000      17.000000      10.000000\n",
      "25%      57.00000      59.000000      57.750000\n",
      "50%      66.00000      70.000000      69.000000\n",
      "75%      77.00000      79.000000      79.000000\n",
      "max     100.00000     100.000000     100.000000\n"
     ]
    }
   ],
   "source": [
    "# Mean,median and mode of data\n",
    "# descriptions\n",
    "print(bd.describe())"
   ]
  },
  {
   "cell_type": "markdown",
   "metadata": {},
   "source": [
    "## Grouping data"
   ]
  },
  {
   "cell_type": "code",
   "execution_count": 21,
   "metadata": {},
   "outputs": [
    {
     "name": "stdout",
     "output_type": "stream",
     "text": [
      "parental level of education\n",
      "associate's degree    222\n",
      "bachelor's degree     118\n",
      "high school           196\n",
      "master's degree        59\n",
      "some college          226\n",
      "some high school      179\n",
      "dtype: int64\n"
     ]
    }
   ],
   "source": [
    "# display  the count \n",
    "print(bd.groupby('parental level of education').size())"
   ]
  },
  {
   "cell_type": "code",
   "execution_count": 22,
   "metadata": {},
   "outputs": [
    {
     "name": "stdout",
     "output_type": "stream",
     "text": [
      "race/ethnicity\n",
      "group A     89\n",
      "group B    190\n",
      "group C    319\n",
      "group D    262\n",
      "group E    140\n",
      "dtype: int64\n"
     ]
    }
   ],
   "source": [
    "print(bd.groupby('race/ethnicity').size())"
   ]
  },
  {
   "cell_type": "code",
   "execution_count": 23,
   "metadata": {},
   "outputs": [
    {
     "name": "stdout",
     "output_type": "stream",
     "text": [
      "gender\n",
      "female    518\n",
      "male      482\n",
      "dtype: int64\n"
     ]
    }
   ],
   "source": [
    "print(bd.groupby('gender').size())"
   ]
  },
  {
   "cell_type": "code",
   "execution_count": 24,
   "metadata": {},
   "outputs": [
    {
     "name": "stdout",
     "output_type": "stream",
     "text": [
      "lunch\n",
      "free/reduced    355\n",
      "standard        645\n",
      "dtype: int64\n"
     ]
    }
   ],
   "source": [
    "print(bd.groupby('lunch').size())"
   ]
  },
  {
   "cell_type": "code",
   "execution_count": 25,
   "metadata": {},
   "outputs": [
    {
     "name": "stdout",
     "output_type": "stream",
     "text": [
      "test preparation course\n",
      "completed    358\n",
      "none         642\n",
      "dtype: int64\n"
     ]
    }
   ],
   "source": [
    "print(bd.groupby('test preparation course').size())"
   ]
  },
  {
   "cell_type": "code",
   "execution_count": 26,
   "metadata": {},
   "outputs": [
    {
     "data": {
      "text/html": [
       "<div>\n",
       "<style scoped>\n",
       "    .dataframe tbody tr th:only-of-type {\n",
       "        vertical-align: middle;\n",
       "    }\n",
       "\n",
       "    .dataframe tbody tr th {\n",
       "        vertical-align: top;\n",
       "    }\n",
       "\n",
       "    .dataframe thead tr th {\n",
       "        text-align: left;\n",
       "    }\n",
       "\n",
       "    .dataframe thead tr:last-of-type th {\n",
       "        text-align: right;\n",
       "    }\n",
       "</style>\n",
       "<table border=\"1\" class=\"dataframe\">\n",
       "  <thead>\n",
       "    <tr>\n",
       "      <th></th>\n",
       "      <th colspan=\"4\" halign=\"left\">math score</th>\n",
       "      <th colspan=\"4\" halign=\"left\">reading score</th>\n",
       "      <th colspan=\"4\" halign=\"left\">writing score</th>\n",
       "    </tr>\n",
       "    <tr>\n",
       "      <th></th>\n",
       "      <th>mean</th>\n",
       "      <th>min</th>\n",
       "      <th>median</th>\n",
       "      <th>max</th>\n",
       "      <th>mean</th>\n",
       "      <th>min</th>\n",
       "      <th>median</th>\n",
       "      <th>max</th>\n",
       "      <th>mean</th>\n",
       "      <th>min</th>\n",
       "      <th>median</th>\n",
       "      <th>max</th>\n",
       "    </tr>\n",
       "    <tr>\n",
       "      <th>gender</th>\n",
       "      <th></th>\n",
       "      <th></th>\n",
       "      <th></th>\n",
       "      <th></th>\n",
       "      <th></th>\n",
       "      <th></th>\n",
       "      <th></th>\n",
       "      <th></th>\n",
       "      <th></th>\n",
       "      <th></th>\n",
       "      <th></th>\n",
       "      <th></th>\n",
       "    </tr>\n",
       "  </thead>\n",
       "  <tbody>\n",
       "    <tr>\n",
       "      <th>female</th>\n",
       "      <td>63.633205</td>\n",
       "      <td>0</td>\n",
       "      <td>65</td>\n",
       "      <td>100</td>\n",
       "      <td>72.608108</td>\n",
       "      <td>17</td>\n",
       "      <td>73</td>\n",
       "      <td>100</td>\n",
       "      <td>72.467181</td>\n",
       "      <td>10</td>\n",
       "      <td>74</td>\n",
       "      <td>100</td>\n",
       "    </tr>\n",
       "    <tr>\n",
       "      <th>male</th>\n",
       "      <td>68.728216</td>\n",
       "      <td>27</td>\n",
       "      <td>69</td>\n",
       "      <td>100</td>\n",
       "      <td>65.473029</td>\n",
       "      <td>23</td>\n",
       "      <td>66</td>\n",
       "      <td>100</td>\n",
       "      <td>63.311203</td>\n",
       "      <td>15</td>\n",
       "      <td>64</td>\n",
       "      <td>100</td>\n",
       "    </tr>\n",
       "  </tbody>\n",
       "</table>\n",
       "</div>"
      ],
      "text/plain": [
       "       math score                 reading score                 writing score  \\\n",
       "             mean min median  max          mean min median  max          mean   \n",
       "gender                                                                          \n",
       "female  63.633205   0     65  100     72.608108  17     73  100     72.467181   \n",
       "male    68.728216  27     69  100     65.473029  23     66  100     63.311203   \n",
       "\n",
       "                        \n",
       "       min median  max  \n",
       "gender                  \n",
       "female  10     74  100  \n",
       "male    15     64  100  "
      ]
     },
     "execution_count": 26,
     "metadata": {},
     "output_type": "execute_result"
    }
   ],
   "source": [
    "#Effect of gender on test performance\n",
    "bd.groupby(['gender']).agg(['mean','min','median','max'])"
   ]
  },
  {
   "cell_type": "markdown",
   "metadata": {},
   "source": [
    "Average writing and reading score of female students are higher than male students while average math score of male students are higher than female students.Minimum marks scored by girls is 0 in maths while minimum marks scored by boys is 27 in maths."
   ]
  },
  {
   "cell_type": "code",
   "execution_count": 27,
   "metadata": {},
   "outputs": [
    {
     "data": {
      "text/html": [
       "<div>\n",
       "<style scoped>\n",
       "    .dataframe tbody tr th:only-of-type {\n",
       "        vertical-align: middle;\n",
       "    }\n",
       "\n",
       "    .dataframe tbody tr th {\n",
       "        vertical-align: top;\n",
       "    }\n",
       "\n",
       "    .dataframe thead tr th {\n",
       "        text-align: left;\n",
       "    }\n",
       "\n",
       "    .dataframe thead tr:last-of-type th {\n",
       "        text-align: right;\n",
       "    }\n",
       "</style>\n",
       "<table border=\"1\" class=\"dataframe\">\n",
       "  <thead>\n",
       "    <tr>\n",
       "      <th></th>\n",
       "      <th></th>\n",
       "      <th colspan=\"4\" halign=\"left\">math score</th>\n",
       "      <th colspan=\"4\" halign=\"left\">reading score</th>\n",
       "      <th colspan=\"4\" halign=\"left\">writing score</th>\n",
       "    </tr>\n",
       "    <tr>\n",
       "      <th></th>\n",
       "      <th></th>\n",
       "      <th>mean</th>\n",
       "      <th>min</th>\n",
       "      <th>median</th>\n",
       "      <th>max</th>\n",
       "      <th>mean</th>\n",
       "      <th>min</th>\n",
       "      <th>median</th>\n",
       "      <th>max</th>\n",
       "      <th>mean</th>\n",
       "      <th>min</th>\n",
       "      <th>median</th>\n",
       "      <th>max</th>\n",
       "    </tr>\n",
       "    <tr>\n",
       "      <th>lunch</th>\n",
       "      <th>gender</th>\n",
       "      <th></th>\n",
       "      <th></th>\n",
       "      <th></th>\n",
       "      <th></th>\n",
       "      <th></th>\n",
       "      <th></th>\n",
       "      <th></th>\n",
       "      <th></th>\n",
       "      <th></th>\n",
       "      <th></th>\n",
       "      <th></th>\n",
       "      <th></th>\n",
       "    </tr>\n",
       "  </thead>\n",
       "  <tbody>\n",
       "    <tr>\n",
       "      <th rowspan=\"2\" valign=\"top\">free/reduced</th>\n",
       "      <th>female</th>\n",
       "      <td>55.814815</td>\n",
       "      <td>0</td>\n",
       "      <td>57</td>\n",
       "      <td>93</td>\n",
       "      <td>67.386243</td>\n",
       "      <td>17</td>\n",
       "      <td>67.0</td>\n",
       "      <td>100</td>\n",
       "      <td>66.444444</td>\n",
       "      <td>10</td>\n",
       "      <td>68</td>\n",
       "      <td>100</td>\n",
       "    </tr>\n",
       "    <tr>\n",
       "      <th>male</th>\n",
       "      <td>62.457831</td>\n",
       "      <td>27</td>\n",
       "      <td>62</td>\n",
       "      <td>100</td>\n",
       "      <td>61.542169</td>\n",
       "      <td>23</td>\n",
       "      <td>61.0</td>\n",
       "      <td>100</td>\n",
       "      <td>59.126506</td>\n",
       "      <td>15</td>\n",
       "      <td>59</td>\n",
       "      <td>93</td>\n",
       "    </tr>\n",
       "    <tr>\n",
       "      <th rowspan=\"2\" valign=\"top\">standard</th>\n",
       "      <th>female</th>\n",
       "      <td>68.124620</td>\n",
       "      <td>19</td>\n",
       "      <td>67</td>\n",
       "      <td>100</td>\n",
       "      <td>75.607903</td>\n",
       "      <td>29</td>\n",
       "      <td>75.0</td>\n",
       "      <td>100</td>\n",
       "      <td>75.927052</td>\n",
       "      <td>30</td>\n",
       "      <td>76</td>\n",
       "      <td>100</td>\n",
       "    </tr>\n",
       "    <tr>\n",
       "      <th>male</th>\n",
       "      <td>72.022152</td>\n",
       "      <td>30</td>\n",
       "      <td>72</td>\n",
       "      <td>100</td>\n",
       "      <td>67.537975</td>\n",
       "      <td>26</td>\n",
       "      <td>67.5</td>\n",
       "      <td>100</td>\n",
       "      <td>65.509494</td>\n",
       "      <td>22</td>\n",
       "      <td>67</td>\n",
       "      <td>100</td>\n",
       "    </tr>\n",
       "  </tbody>\n",
       "</table>\n",
       "</div>"
      ],
      "text/plain": [
       "                    math score                 reading score                  \\\n",
       "                          mean min median  max          mean min median  max   \n",
       "lunch        gender                                                            \n",
       "free/reduced female  55.814815   0     57   93     67.386243  17   67.0  100   \n",
       "             male    62.457831  27     62  100     61.542169  23   61.0  100   \n",
       "standard     female  68.124620  19     67  100     75.607903  29   75.0  100   \n",
       "             male    72.022152  30     72  100     67.537975  26   67.5  100   \n",
       "\n",
       "                    writing score                  \n",
       "                             mean min median  max  \n",
       "lunch        gender                                \n",
       "free/reduced female     66.444444  10     68  100  \n",
       "             male       59.126506  15     59   93  \n",
       "standard     female     75.927052  30     76  100  \n",
       "             male       65.509494  22     67  100  "
      ]
     },
     "execution_count": 27,
     "metadata": {},
     "output_type": "execute_result"
    }
   ],
   "source": [
    "#Effect of lunch on test performance\n",
    "bd.groupby(['lunch','gender']).agg(['mean','min','median','max'])"
   ]
  },
  {
   "cell_type": "markdown",
   "metadata": {},
   "source": [
    "Students whether male or female having standard lunch have highest average marks in all 3 subjects . Minimum marks of females having free lunch in reading and writing is less than male while Minimum marks of females having standard lunch in reading and writing is more than males. "
   ]
  },
  {
   "cell_type": "code",
   "execution_count": 28,
   "metadata": {},
   "outputs": [
    {
     "data": {
      "text/html": [
       "<div>\n",
       "<style scoped>\n",
       "    .dataframe tbody tr th:only-of-type {\n",
       "        vertical-align: middle;\n",
       "    }\n",
       "\n",
       "    .dataframe tbody tr th {\n",
       "        vertical-align: top;\n",
       "    }\n",
       "\n",
       "    .dataframe thead tr th {\n",
       "        text-align: left;\n",
       "    }\n",
       "\n",
       "    .dataframe thead tr:last-of-type th {\n",
       "        text-align: right;\n",
       "    }\n",
       "</style>\n",
       "<table border=\"1\" class=\"dataframe\">\n",
       "  <thead>\n",
       "    <tr>\n",
       "      <th></th>\n",
       "      <th></th>\n",
       "      <th colspan=\"4\" halign=\"left\">math score</th>\n",
       "      <th colspan=\"4\" halign=\"left\">reading score</th>\n",
       "      <th colspan=\"4\" halign=\"left\">writing score</th>\n",
       "    </tr>\n",
       "    <tr>\n",
       "      <th></th>\n",
       "      <th></th>\n",
       "      <th>mean</th>\n",
       "      <th>min</th>\n",
       "      <th>median</th>\n",
       "      <th>max</th>\n",
       "      <th>mean</th>\n",
       "      <th>min</th>\n",
       "      <th>median</th>\n",
       "      <th>max</th>\n",
       "      <th>mean</th>\n",
       "      <th>min</th>\n",
       "      <th>median</th>\n",
       "      <th>max</th>\n",
       "    </tr>\n",
       "    <tr>\n",
       "      <th>race/ethnicity</th>\n",
       "      <th>gender</th>\n",
       "      <th></th>\n",
       "      <th></th>\n",
       "      <th></th>\n",
       "      <th></th>\n",
       "      <th></th>\n",
       "      <th></th>\n",
       "      <th></th>\n",
       "      <th></th>\n",
       "      <th></th>\n",
       "      <th></th>\n",
       "      <th></th>\n",
       "      <th></th>\n",
       "    </tr>\n",
       "  </thead>\n",
       "  <tbody>\n",
       "    <tr>\n",
       "      <th rowspan=\"2\" valign=\"top\">group A</th>\n",
       "      <th>female</th>\n",
       "      <td>58.527778</td>\n",
       "      <td>34</td>\n",
       "      <td>57</td>\n",
       "      <td>92</td>\n",
       "      <td>69.000000</td>\n",
       "      <td>43</td>\n",
       "      <td>67.5</td>\n",
       "      <td>100</td>\n",
       "      <td>67.861111</td>\n",
       "      <td>41</td>\n",
       "      <td>67.0</td>\n",
       "      <td>97</td>\n",
       "    </tr>\n",
       "    <tr>\n",
       "      <th>male</th>\n",
       "      <td>63.735849</td>\n",
       "      <td>28</td>\n",
       "      <td>63</td>\n",
       "      <td>100</td>\n",
       "      <td>61.735849</td>\n",
       "      <td>23</td>\n",
       "      <td>61.0</td>\n",
       "      <td>96</td>\n",
       "      <td>59.150943</td>\n",
       "      <td>19</td>\n",
       "      <td>60.0</td>\n",
       "      <td>92</td>\n",
       "    </tr>\n",
       "    <tr>\n",
       "      <th rowspan=\"2\" valign=\"top\">group B</th>\n",
       "      <th>female</th>\n",
       "      <td>61.403846</td>\n",
       "      <td>8</td>\n",
       "      <td>62</td>\n",
       "      <td>97</td>\n",
       "      <td>71.076923</td>\n",
       "      <td>24</td>\n",
       "      <td>71.5</td>\n",
       "      <td>97</td>\n",
       "      <td>70.048077</td>\n",
       "      <td>23</td>\n",
       "      <td>71.5</td>\n",
       "      <td>96</td>\n",
       "    </tr>\n",
       "    <tr>\n",
       "      <th>male</th>\n",
       "      <td>65.930233</td>\n",
       "      <td>30</td>\n",
       "      <td>65</td>\n",
       "      <td>94</td>\n",
       "      <td>62.848837</td>\n",
       "      <td>24</td>\n",
       "      <td>62.0</td>\n",
       "      <td>96</td>\n",
       "      <td>60.220930</td>\n",
       "      <td>15</td>\n",
       "      <td>60.0</td>\n",
       "      <td>92</td>\n",
       "    </tr>\n",
       "    <tr>\n",
       "      <th rowspan=\"2\" valign=\"top\">group C</th>\n",
       "      <th>female</th>\n",
       "      <td>62.033333</td>\n",
       "      <td>0</td>\n",
       "      <td>63</td>\n",
       "      <td>96</td>\n",
       "      <td>71.944444</td>\n",
       "      <td>17</td>\n",
       "      <td>73.0</td>\n",
       "      <td>100</td>\n",
       "      <td>71.777778</td>\n",
       "      <td>10</td>\n",
       "      <td>74.0</td>\n",
       "      <td>100</td>\n",
       "    </tr>\n",
       "    <tr>\n",
       "      <th>male</th>\n",
       "      <td>67.611511</td>\n",
       "      <td>27</td>\n",
       "      <td>68</td>\n",
       "      <td>98</td>\n",
       "      <td>65.424460</td>\n",
       "      <td>28</td>\n",
       "      <td>66.0</td>\n",
       "      <td>100</td>\n",
       "      <td>62.712230</td>\n",
       "      <td>27</td>\n",
       "      <td>62.0</td>\n",
       "      <td>95</td>\n",
       "    </tr>\n",
       "    <tr>\n",
       "      <th rowspan=\"2\" valign=\"top\">group D</th>\n",
       "      <th>female</th>\n",
       "      <td>65.248062</td>\n",
       "      <td>26</td>\n",
       "      <td>65</td>\n",
       "      <td>98</td>\n",
       "      <td>74.046512</td>\n",
       "      <td>31</td>\n",
       "      <td>74.0</td>\n",
       "      <td>100</td>\n",
       "      <td>75.023256</td>\n",
       "      <td>32</td>\n",
       "      <td>76.0</td>\n",
       "      <td>100</td>\n",
       "    </tr>\n",
       "    <tr>\n",
       "      <th>male</th>\n",
       "      <td>69.413534</td>\n",
       "      <td>39</td>\n",
       "      <td>71</td>\n",
       "      <td>100</td>\n",
       "      <td>66.135338</td>\n",
       "      <td>34</td>\n",
       "      <td>68.0</td>\n",
       "      <td>97</td>\n",
       "      <td>65.413534</td>\n",
       "      <td>34</td>\n",
       "      <td>67.0</td>\n",
       "      <td>99</td>\n",
       "    </tr>\n",
       "    <tr>\n",
       "      <th rowspan=\"2\" valign=\"top\">group E</th>\n",
       "      <th>female</th>\n",
       "      <td>70.811594</td>\n",
       "      <td>32</td>\n",
       "      <td>71</td>\n",
       "      <td>100</td>\n",
       "      <td>75.840580</td>\n",
       "      <td>34</td>\n",
       "      <td>76.0</td>\n",
       "      <td>100</td>\n",
       "      <td>75.536232</td>\n",
       "      <td>38</td>\n",
       "      <td>76.0</td>\n",
       "      <td>100</td>\n",
       "    </tr>\n",
       "    <tr>\n",
       "      <th>male</th>\n",
       "      <td>76.746479</td>\n",
       "      <td>30</td>\n",
       "      <td>78</td>\n",
       "      <td>100</td>\n",
       "      <td>70.295775</td>\n",
       "      <td>26</td>\n",
       "      <td>73.0</td>\n",
       "      <td>100</td>\n",
       "      <td>67.394366</td>\n",
       "      <td>22</td>\n",
       "      <td>70.0</td>\n",
       "      <td>100</td>\n",
       "    </tr>\n",
       "  </tbody>\n",
       "</table>\n",
       "</div>"
      ],
      "text/plain": [
       "                      math score                 reading score             \\\n",
       "                            mean min median  max          mean min median   \n",
       "race/ethnicity gender                                                       \n",
       "group A        female  58.527778  34     57   92     69.000000  43   67.5   \n",
       "               male    63.735849  28     63  100     61.735849  23   61.0   \n",
       "group B        female  61.403846   8     62   97     71.076923  24   71.5   \n",
       "               male    65.930233  30     65   94     62.848837  24   62.0   \n",
       "group C        female  62.033333   0     63   96     71.944444  17   73.0   \n",
       "               male    67.611511  27     68   98     65.424460  28   66.0   \n",
       "group D        female  65.248062  26     65   98     74.046512  31   74.0   \n",
       "               male    69.413534  39     71  100     66.135338  34   68.0   \n",
       "group E        female  70.811594  32     71  100     75.840580  34   76.0   \n",
       "               male    76.746479  30     78  100     70.295775  26   73.0   \n",
       "\n",
       "                           writing score                  \n",
       "                       max          mean min median  max  \n",
       "race/ethnicity gender                                     \n",
       "group A        female  100     67.861111  41   67.0   97  \n",
       "               male     96     59.150943  19   60.0   92  \n",
       "group B        female   97     70.048077  23   71.5   96  \n",
       "               male     96     60.220930  15   60.0   92  \n",
       "group C        female  100     71.777778  10   74.0  100  \n",
       "               male    100     62.712230  27   62.0   95  \n",
       "group D        female  100     75.023256  32   76.0  100  \n",
       "               male     97     65.413534  34   67.0   99  \n",
       "group E        female  100     75.536232  38   76.0  100  \n",
       "               male    100     67.394366  22   70.0  100  "
      ]
     },
     "execution_count": 28,
     "metadata": {},
     "output_type": "execute_result"
    }
   ],
   "source": [
    "#Effect of race/ethnicity on test performance\n",
    "bd.groupby(['race/ethnicity','gender']).agg(['mean','min','median','max'])"
   ]
  },
  {
   "cell_type": "markdown",
   "metadata": {},
   "source": [
    "Students of group E have highest average marks in all 3 subjects ."
   ]
  },
  {
   "cell_type": "code",
   "execution_count": 29,
   "metadata": {},
   "outputs": [
    {
     "data": {
      "text/html": [
       "<div>\n",
       "<style scoped>\n",
       "    .dataframe tbody tr th:only-of-type {\n",
       "        vertical-align: middle;\n",
       "    }\n",
       "\n",
       "    .dataframe tbody tr th {\n",
       "        vertical-align: top;\n",
       "    }\n",
       "\n",
       "    .dataframe thead tr th {\n",
       "        text-align: left;\n",
       "    }\n",
       "\n",
       "    .dataframe thead tr:last-of-type th {\n",
       "        text-align: right;\n",
       "    }\n",
       "</style>\n",
       "<table border=\"1\" class=\"dataframe\">\n",
       "  <thead>\n",
       "    <tr>\n",
       "      <th></th>\n",
       "      <th></th>\n",
       "      <th colspan=\"4\" halign=\"left\">math score</th>\n",
       "      <th colspan=\"4\" halign=\"left\">reading score</th>\n",
       "      <th colspan=\"4\" halign=\"left\">writing score</th>\n",
       "    </tr>\n",
       "    <tr>\n",
       "      <th></th>\n",
       "      <th></th>\n",
       "      <th>mean</th>\n",
       "      <th>min</th>\n",
       "      <th>median</th>\n",
       "      <th>max</th>\n",
       "      <th>mean</th>\n",
       "      <th>min</th>\n",
       "      <th>median</th>\n",
       "      <th>max</th>\n",
       "      <th>mean</th>\n",
       "      <th>min</th>\n",
       "      <th>median</th>\n",
       "      <th>max</th>\n",
       "    </tr>\n",
       "    <tr>\n",
       "      <th>test preparation course</th>\n",
       "      <th>gender</th>\n",
       "      <th></th>\n",
       "      <th></th>\n",
       "      <th></th>\n",
       "      <th></th>\n",
       "      <th></th>\n",
       "      <th></th>\n",
       "      <th></th>\n",
       "      <th></th>\n",
       "      <th></th>\n",
       "      <th></th>\n",
       "      <th></th>\n",
       "      <th></th>\n",
       "    </tr>\n",
       "  </thead>\n",
       "  <tbody>\n",
       "    <tr>\n",
       "      <th rowspan=\"2\" valign=\"top\">completed</th>\n",
       "      <th>female</th>\n",
       "      <td>67.195652</td>\n",
       "      <td>23</td>\n",
       "      <td>67</td>\n",
       "      <td>99</td>\n",
       "      <td>77.375000</td>\n",
       "      <td>40</td>\n",
       "      <td>78</td>\n",
       "      <td>100</td>\n",
       "      <td>78.793478</td>\n",
       "      <td>36</td>\n",
       "      <td>79</td>\n",
       "      <td>100</td>\n",
       "    </tr>\n",
       "    <tr>\n",
       "      <th>male</th>\n",
       "      <td>72.339080</td>\n",
       "      <td>39</td>\n",
       "      <td>73</td>\n",
       "      <td>100</td>\n",
       "      <td>70.212644</td>\n",
       "      <td>37</td>\n",
       "      <td>71</td>\n",
       "      <td>100</td>\n",
       "      <td>69.793103</td>\n",
       "      <td>38</td>\n",
       "      <td>70</td>\n",
       "      <td>100</td>\n",
       "    </tr>\n",
       "    <tr>\n",
       "      <th rowspan=\"2\" valign=\"top\">none</th>\n",
       "      <th>female</th>\n",
       "      <td>61.670659</td>\n",
       "      <td>0</td>\n",
       "      <td>62</td>\n",
       "      <td>100</td>\n",
       "      <td>69.982036</td>\n",
       "      <td>17</td>\n",
       "      <td>71</td>\n",
       "      <td>100</td>\n",
       "      <td>68.982036</td>\n",
       "      <td>10</td>\n",
       "      <td>70</td>\n",
       "      <td>100</td>\n",
       "    </tr>\n",
       "    <tr>\n",
       "      <th>male</th>\n",
       "      <td>66.688312</td>\n",
       "      <td>27</td>\n",
       "      <td>67</td>\n",
       "      <td>97</td>\n",
       "      <td>62.795455</td>\n",
       "      <td>23</td>\n",
       "      <td>63</td>\n",
       "      <td>96</td>\n",
       "      <td>59.649351</td>\n",
       "      <td>15</td>\n",
       "      <td>60</td>\n",
       "      <td>92</td>\n",
       "    </tr>\n",
       "  </tbody>\n",
       "</table>\n",
       "</div>"
      ],
      "text/plain": [
       "                               math score                 reading score      \\\n",
       "                                     mean min median  max          mean min   \n",
       "test preparation course gender                                                \n",
       "completed               female  67.195652  23     67   99     77.375000  40   \n",
       "                        male    72.339080  39     73  100     70.212644  37   \n",
       "none                    female  61.670659   0     62  100     69.982036  17   \n",
       "                        male    66.688312  27     67   97     62.795455  23   \n",
       "\n",
       "                                           writing score                  \n",
       "                               median  max          mean min median  max  \n",
       "test preparation course gender                                            \n",
       "completed               female     78  100     78.793478  36     79  100  \n",
       "                        male       71  100     69.793103  38     70  100  \n",
       "none                    female     71  100     68.982036  10     70  100  \n",
       "                        male       63   96     59.649351  15     60   92  "
      ]
     },
     "execution_count": 29,
     "metadata": {},
     "output_type": "execute_result"
    }
   ],
   "source": [
    "#Effect of test preparation course on test performance\n",
    "bd.groupby(['test preparation course','gender']).agg(['mean','min','median','max'])"
   ]
  },
  {
   "cell_type": "markdown",
   "metadata": {},
   "source": [
    "Students who have completed the test preparation course have more average marks in all 3 subjects than students who don't have  test preparation course"
   ]
  },
  {
   "cell_type": "code",
   "execution_count": 30,
   "metadata": {},
   "outputs": [
    {
     "data": {
      "text/html": [
       "<div>\n",
       "<style scoped>\n",
       "    .dataframe tbody tr th:only-of-type {\n",
       "        vertical-align: middle;\n",
       "    }\n",
       "\n",
       "    .dataframe tbody tr th {\n",
       "        vertical-align: top;\n",
       "    }\n",
       "\n",
       "    .dataframe thead tr th {\n",
       "        text-align: left;\n",
       "    }\n",
       "\n",
       "    .dataframe thead tr:last-of-type th {\n",
       "        text-align: right;\n",
       "    }\n",
       "</style>\n",
       "<table border=\"1\" class=\"dataframe\">\n",
       "  <thead>\n",
       "    <tr>\n",
       "      <th></th>\n",
       "      <th></th>\n",
       "      <th colspan=\"4\" halign=\"left\">math score</th>\n",
       "      <th colspan=\"4\" halign=\"left\">reading score</th>\n",
       "      <th colspan=\"4\" halign=\"left\">writing score</th>\n",
       "    </tr>\n",
       "    <tr>\n",
       "      <th></th>\n",
       "      <th></th>\n",
       "      <th>mean</th>\n",
       "      <th>min</th>\n",
       "      <th>median</th>\n",
       "      <th>max</th>\n",
       "      <th>mean</th>\n",
       "      <th>min</th>\n",
       "      <th>median</th>\n",
       "      <th>max</th>\n",
       "      <th>mean</th>\n",
       "      <th>min</th>\n",
       "      <th>median</th>\n",
       "      <th>max</th>\n",
       "    </tr>\n",
       "    <tr>\n",
       "      <th>parental level of education</th>\n",
       "      <th>gender</th>\n",
       "      <th></th>\n",
       "      <th></th>\n",
       "      <th></th>\n",
       "      <th></th>\n",
       "      <th></th>\n",
       "      <th></th>\n",
       "      <th></th>\n",
       "      <th></th>\n",
       "      <th></th>\n",
       "      <th></th>\n",
       "      <th></th>\n",
       "      <th></th>\n",
       "    </tr>\n",
       "  </thead>\n",
       "  <tbody>\n",
       "    <tr>\n",
       "      <th rowspan=\"2\" valign=\"top\">associate's degree</th>\n",
       "      <th>female</th>\n",
       "      <td>65.250000</td>\n",
       "      <td>26</td>\n",
       "      <td>65.0</td>\n",
       "      <td>100</td>\n",
       "      <td>74.120690</td>\n",
       "      <td>31</td>\n",
       "      <td>75.5</td>\n",
       "      <td>100</td>\n",
       "      <td>74.000000</td>\n",
       "      <td>38</td>\n",
       "      <td>74.0</td>\n",
       "      <td>100</td>\n",
       "    </tr>\n",
       "    <tr>\n",
       "      <th>male</th>\n",
       "      <td>70.764151</td>\n",
       "      <td>40</td>\n",
       "      <td>72.0</td>\n",
       "      <td>100</td>\n",
       "      <td>67.433962</td>\n",
       "      <td>37</td>\n",
       "      <td>68.0</td>\n",
       "      <td>100</td>\n",
       "      <td>65.405660</td>\n",
       "      <td>35</td>\n",
       "      <td>65.5</td>\n",
       "      <td>95</td>\n",
       "    </tr>\n",
       "    <tr>\n",
       "      <th rowspan=\"2\" valign=\"top\">bachelor's degree</th>\n",
       "      <th>female</th>\n",
       "      <td>68.349206</td>\n",
       "      <td>29</td>\n",
       "      <td>67.0</td>\n",
       "      <td>100</td>\n",
       "      <td>77.285714</td>\n",
       "      <td>41</td>\n",
       "      <td>76.0</td>\n",
       "      <td>100</td>\n",
       "      <td>78.380952</td>\n",
       "      <td>38</td>\n",
       "      <td>80.0</td>\n",
       "      <td>100</td>\n",
       "    </tr>\n",
       "    <tr>\n",
       "      <th>male</th>\n",
       "      <td>70.581818</td>\n",
       "      <td>37</td>\n",
       "      <td>70.0</td>\n",
       "      <td>100</td>\n",
       "      <td>68.090909</td>\n",
       "      <td>42</td>\n",
       "      <td>67.0</td>\n",
       "      <td>100</td>\n",
       "      <td>67.654545</td>\n",
       "      <td>38</td>\n",
       "      <td>68.0</td>\n",
       "      <td>100</td>\n",
       "    </tr>\n",
       "    <tr>\n",
       "      <th rowspan=\"2\" valign=\"top\">high school</th>\n",
       "      <th>female</th>\n",
       "      <td>59.351064</td>\n",
       "      <td>8</td>\n",
       "      <td>61.0</td>\n",
       "      <td>99</td>\n",
       "      <td>68.202128</td>\n",
       "      <td>24</td>\n",
       "      <td>69.5</td>\n",
       "      <td>99</td>\n",
       "      <td>66.691489</td>\n",
       "      <td>23</td>\n",
       "      <td>68.0</td>\n",
       "      <td>100</td>\n",
       "    </tr>\n",
       "    <tr>\n",
       "      <th>male</th>\n",
       "      <td>64.705882</td>\n",
       "      <td>27</td>\n",
       "      <td>66.0</td>\n",
       "      <td>94</td>\n",
       "      <td>61.480392</td>\n",
       "      <td>24</td>\n",
       "      <td>61.5</td>\n",
       "      <td>91</td>\n",
       "      <td>58.539216</td>\n",
       "      <td>15</td>\n",
       "      <td>58.5</td>\n",
       "      <td>86</td>\n",
       "    </tr>\n",
       "    <tr>\n",
       "      <th rowspan=\"2\" valign=\"top\">master's degree</th>\n",
       "      <th>female</th>\n",
       "      <td>66.500000</td>\n",
       "      <td>40</td>\n",
       "      <td>64.5</td>\n",
       "      <td>94</td>\n",
       "      <td>76.805556</td>\n",
       "      <td>53</td>\n",
       "      <td>74.0</td>\n",
       "      <td>100</td>\n",
       "      <td>77.638889</td>\n",
       "      <td>54</td>\n",
       "      <td>76.5</td>\n",
       "      <td>100</td>\n",
       "    </tr>\n",
       "    <tr>\n",
       "      <th>male</th>\n",
       "      <td>74.826087</td>\n",
       "      <td>46</td>\n",
       "      <td>79.0</td>\n",
       "      <td>95</td>\n",
       "      <td>73.130435</td>\n",
       "      <td>42</td>\n",
       "      <td>77.0</td>\n",
       "      <td>89</td>\n",
       "      <td>72.608696</td>\n",
       "      <td>46</td>\n",
       "      <td>74.0</td>\n",
       "      <td>90</td>\n",
       "    </tr>\n",
       "    <tr>\n",
       "      <th rowspan=\"2\" valign=\"top\">some college</th>\n",
       "      <th>female</th>\n",
       "      <td>65.406780</td>\n",
       "      <td>19</td>\n",
       "      <td>65.5</td>\n",
       "      <td>100</td>\n",
       "      <td>73.550847</td>\n",
       "      <td>38</td>\n",
       "      <td>74.0</td>\n",
       "      <td>100</td>\n",
       "      <td>74.050847</td>\n",
       "      <td>32</td>\n",
       "      <td>74.5</td>\n",
       "      <td>99</td>\n",
       "    </tr>\n",
       "    <tr>\n",
       "      <th>male</th>\n",
       "      <td>69.009259</td>\n",
       "      <td>28</td>\n",
       "      <td>69.0</td>\n",
       "      <td>100</td>\n",
       "      <td>64.990741</td>\n",
       "      <td>23</td>\n",
       "      <td>63.5</td>\n",
       "      <td>97</td>\n",
       "      <td>63.148148</td>\n",
       "      <td>19</td>\n",
       "      <td>62.5</td>\n",
       "      <td>99</td>\n",
       "    </tr>\n",
       "    <tr>\n",
       "      <th rowspan=\"2\" valign=\"top\">some high school</th>\n",
       "      <th>female</th>\n",
       "      <td>59.296703</td>\n",
       "      <td>0</td>\n",
       "      <td>63.0</td>\n",
       "      <td>97</td>\n",
       "      <td>69.109890</td>\n",
       "      <td>17</td>\n",
       "      <td>71.0</td>\n",
       "      <td>100</td>\n",
       "      <td>68.285714</td>\n",
       "      <td>10</td>\n",
       "      <td>72.0</td>\n",
       "      <td>100</td>\n",
       "    </tr>\n",
       "    <tr>\n",
       "      <th>male</th>\n",
       "      <td>67.840909</td>\n",
       "      <td>30</td>\n",
       "      <td>68.0</td>\n",
       "      <td>94</td>\n",
       "      <td>64.693182</td>\n",
       "      <td>26</td>\n",
       "      <td>66.0</td>\n",
       "      <td>88</td>\n",
       "      <td>61.375000</td>\n",
       "      <td>22</td>\n",
       "      <td>61.5</td>\n",
       "      <td>87</td>\n",
       "    </tr>\n",
       "  </tbody>\n",
       "</table>\n",
       "</div>"
      ],
      "text/plain": [
       "                                   math score                 reading score  \\\n",
       "                                         mean min median  max          mean   \n",
       "parental level of education gender                                            \n",
       "associate's degree          female  65.250000  26   65.0  100     74.120690   \n",
       "                            male    70.764151  40   72.0  100     67.433962   \n",
       "bachelor's degree           female  68.349206  29   67.0  100     77.285714   \n",
       "                            male    70.581818  37   70.0  100     68.090909   \n",
       "high school                 female  59.351064   8   61.0   99     68.202128   \n",
       "                            male    64.705882  27   66.0   94     61.480392   \n",
       "master's degree             female  66.500000  40   64.5   94     76.805556   \n",
       "                            male    74.826087  46   79.0   95     73.130435   \n",
       "some college                female  65.406780  19   65.5  100     73.550847   \n",
       "                            male    69.009259  28   69.0  100     64.990741   \n",
       "some high school            female  59.296703   0   63.0   97     69.109890   \n",
       "                            male    67.840909  30   68.0   94     64.693182   \n",
       "\n",
       "                                                   writing score             \\\n",
       "                                   min median  max          mean min median   \n",
       "parental level of education gender                                            \n",
       "associate's degree          female  31   75.5  100     74.000000  38   74.0   \n",
       "                            male    37   68.0  100     65.405660  35   65.5   \n",
       "bachelor's degree           female  41   76.0  100     78.380952  38   80.0   \n",
       "                            male    42   67.0  100     67.654545  38   68.0   \n",
       "high school                 female  24   69.5   99     66.691489  23   68.0   \n",
       "                            male    24   61.5   91     58.539216  15   58.5   \n",
       "master's degree             female  53   74.0  100     77.638889  54   76.5   \n",
       "                            male    42   77.0   89     72.608696  46   74.0   \n",
       "some college                female  38   74.0  100     74.050847  32   74.5   \n",
       "                            male    23   63.5   97     63.148148  19   62.5   \n",
       "some high school            female  17   71.0  100     68.285714  10   72.0   \n",
       "                            male    26   66.0   88     61.375000  22   61.5   \n",
       "\n",
       "                                         \n",
       "                                    max  \n",
       "parental level of education gender       \n",
       "associate's degree          female  100  \n",
       "                            male     95  \n",
       "bachelor's degree           female  100  \n",
       "                            male    100  \n",
       "high school                 female  100  \n",
       "                            male     86  \n",
       "master's degree             female  100  \n",
       "                            male     90  \n",
       "some college                female   99  \n",
       "                            male     99  \n",
       "some high school            female  100  \n",
       "                            male     87  "
      ]
     },
     "execution_count": 30,
     "metadata": {},
     "output_type": "execute_result"
    }
   ],
   "source": [
    "#Effect of parental level of education on test performance\n",
    "bd.groupby(['parental level of education','gender']).agg(['mean','min','median','max'])"
   ]
  },
  {
   "cell_type": "markdown",
   "metadata": {},
   "source": [
    "Girls whose parents have bachelor's degree score the highest average marks in all 3 subjects while boys whose parents have master's degree score the highest average marks in all 3 subjects."
   ]
  },
  {
   "cell_type": "markdown",
   "metadata": {},
   "source": [
    "## Pairwise correlation"
   ]
  },
  {
   "cell_type": "code",
   "execution_count": 31,
   "metadata": {},
   "outputs": [
    {
     "name": "stdout",
     "output_type": "stream",
     "text": [
      "               math score  reading score  writing score\n",
      "math score       1.000000       0.817580       0.802642\n",
      "reading score    0.817580       1.000000       0.954598\n",
      "writing score    0.802642       0.954598       1.000000\n"
     ]
    },
    {
     "data": {
      "text/plain": [
       "<matplotlib.axes._subplots.AxesSubplot at 0x26087386c08>"
      ]
     },
     "execution_count": 31,
     "metadata": {},
     "output_type": "execute_result"
    },
    {
     "data": {
      "image/png": "[encoded data removed]",
      "text/plain": [
       "<Figure size 432x288 with 2 Axes>"
      ]
     },
     "metadata": {
      "needs_background": "light"
     },
     "output_type": "display_data"
    }
   ],
   "source": [
    "correlation = bd.corr()\n",
    "print(correlation)\n",
    "sns.heatmap(correlation)"
   ]
  },
  {
   "cell_type": "markdown",
   "metadata": {},
   "source": [
    "As correlation between different colums are positive i.e with increase/decrease in one column the other one also increases/decreases.As magnitude increases , their dependency on each other increases. "
   ]
  },
  {
   "cell_type": "code",
   "execution_count": 32,
   "metadata": {},
   "outputs": [
    {
     "data": {
      "text/plain": [
       "<seaborn.axisgrid.PairGrid at 0x26087435248>"
      ]
     },
     "execution_count": 32,
     "metadata": {},
     "output_type": "execute_result"
    },
    {
     "data": {
      "image/png": "[encoded data removed]",
      "text/plain": [
       "<Figure size 540x540 with 12 Axes>"
      ]
     },
     "metadata": {
      "needs_background": "light"
     },
     "output_type": "display_data"
    }
   ],
   "source": [
    "sns.pairplot(bd)"
   ]
  },
  {
   "cell_type": "markdown",
   "metadata": {},
   "source": [
    "## Data Visualisation"
   ]
  },
  {
   "cell_type": "markdown",
   "metadata": {},
   "source": [
    "## OUTLIERS"
   ]
  },
  {
   "cell_type": "markdown",
   "metadata": {},
   "source": [
    "## Identifying Outliers with Skewness"
   ]
  },
  {
   "cell_type": "code",
   "execution_count": 14,
   "metadata": {},
   "outputs": [
    {
     "name": "stdout",
     "output_type": "stream",
     "text": [
      "-0.27893514909431694\n"
     ]
    },
    {
     "data": {
      "text/plain": [
       "count    1000.00000\n",
       "mean       66.08900\n",
       "std        15.16308\n",
       "min         0.00000\n",
       "25%        57.00000\n",
       "50%        66.00000\n",
       "75%        77.00000\n",
       "max       100.00000\n",
       "Name: math score, dtype: float64"
      ]
     },
     "execution_count": 14,
     "metadata": {},
     "output_type": "execute_result"
    }
   ],
   "source": [
    "print(bd['math score'].skew())\n",
    "bd['math score'].describe()"
   ]
  },
  {
   "cell_type": "markdown",
   "metadata": {},
   "source": [
    "The skewness value of -0.27 shows that the variable 'math score' has a left-skewed distribution, indicating the presence of extreme lower values. "
   ]
  },
  {
   "cell_type": "code",
   "execution_count": 16,
   "metadata": {},
   "outputs": [
    {
     "name": "stdout",
     "output_type": "stream",
     "text": [
      "-0.28944397150761897\n"
     ]
    },
    {
     "data": {
      "text/plain": [
       "count    1000.000000\n",
       "mean       68.054000\n",
       "std        15.195657\n",
       "min        10.000000\n",
       "25%        57.750000\n",
       "50%        69.000000\n",
       "75%        79.000000\n",
       "max       100.000000\n",
       "Name: writing score, dtype: float64"
      ]
     },
     "execution_count": 16,
     "metadata": {},
     "output_type": "execute_result"
    }
   ],
   "source": [
    "print(bd['writing score'].skew())\n",
    "bd['writing score'].describe()"
   ]
  },
  {
   "cell_type": "markdown",
   "metadata": {},
   "source": [
    "The skewness value of -0.289 shows that the variable 'writing score' has a left-skewed distribution, indicating the presence of extreme lower values."
   ]
  },
  {
   "cell_type": "code",
   "execution_count": 15,
   "metadata": {},
   "outputs": [
    {
     "name": "stdout",
     "output_type": "stream",
     "text": [
      "-0.25910451810923063\n"
     ]
    },
    {
     "data": {
      "text/plain": [
       "count    1000.000000\n",
       "mean       69.169000\n",
       "std        14.600192\n",
       "min        17.000000\n",
       "25%        59.000000\n",
       "50%        70.000000\n",
       "75%        79.000000\n",
       "max       100.000000\n",
       "Name: reading score, dtype: float64"
      ]
     },
     "execution_count": 15,
     "metadata": {},
     "output_type": "execute_result"
    }
   ],
   "source": [
    "print(bd['reading score'].skew())\n",
    "bd['reading score'].describe()"
   ]
  },
  {
   "cell_type": "markdown",
   "metadata": {},
   "source": [
    "The skewness value of -0.259 shows that the variable 'reading score' has a left-skewed distribution, indicating the presence of extreme lower values"
   ]
  },
  {
   "cell_type": "markdown",
   "metadata": {},
   "source": [
    "## Identifying Outliers with Visualisation"
   ]
  },
  {
   "cell_type": "code",
   "execution_count": 7,
   "metadata": {},
   "outputs": [
    {
     "data": {
      "image/png": "[encoded data removed]",
      "text/plain": [
       "<Figure size 432x288 with 4 Axes>"
      ]
     },
     "metadata": {
      "needs_background": "light"
     },
     "output_type": "display_data"
    }
   ],
   "source": [
    "\n",
    "bd.plot(kind='box', subplots=True,layout=(2,2))\n",
    "plt.show()"
   ]
  },
  {
   "cell_type": "code",
   "execution_count": 10,
   "metadata": {},
   "outputs": [
    {
     "data": {
      "text/plain": [
       "<matplotlib.axes._subplots.AxesSubplot at 0x223d6fbaec8>"
      ]
     },
     "execution_count": 10,
     "metadata": {},
     "output_type": "execute_result"
    },
    {
     "data": {
      "image/png": "[encoded data removed]",
      "text/plain": [
       "<Figure size 432x288 with 1 Axes>"
      ]
     },
     "metadata": {
      "needs_background": "light"
     },
     "output_type": "display_data"
    }
   ],
   "source": [
    "#comparison of other with math score\n",
    "sns.boxplot(x='math score',y='test preparation course', data=bd)\n"
   ]
  },
  {
   "cell_type": "markdown",
   "metadata": {},
   "source": [
    "Students who have not completed test preparation course have more marks that are numerically distant from rest of marks than students who have completed their course."
   ]
  },
  {
   "cell_type": "code",
   "execution_count": 9,
   "metadata": {},
   "outputs": [
    {
     "data": {
      "text/plain": [
       "<matplotlib.axes._subplots.AxesSubplot at 0x223d6f3c688>"
      ]
     },
     "execution_count": 9,
     "metadata": {},
     "output_type": "execute_result"
    },
    {
     "data": {
      "image/png": "[encoded data removed]",
      "text/plain": [
       "<Figure size 432x288 with 1 Axes>"
      ]
     },
     "metadata": {
      "needs_background": "light"
     },
     "output_type": "display_data"
    }
   ],
   "source": [
    "sns.boxplot(x='math score',y='gender', data=bd)\n"
   ]
  },
  {
   "cell_type": "markdown",
   "metadata": {},
   "source": [
    " Math scores of female students are more scattered as compared to male students."
   ]
  },
  {
   "cell_type": "code",
   "execution_count": 12,
   "metadata": {},
   "outputs": [
    {
     "data": {
      "text/plain": [
       "<matplotlib.axes._subplots.AxesSubplot at 0x223d7157fc8>"
      ]
     },
     "execution_count": 12,
     "metadata": {},
     "output_type": "execute_result"
    },
    {
     "data": {
      "image/png": "[encoded data removed]",
      "text/plain": [
       "<Figure size 432x288 with 1 Axes>"
      ]
     },
     "metadata": {
      "needs_background": "light"
     },
     "output_type": "display_data"
    }
   ],
   "source": [
    "sns.boxplot(x='math score',y='race/ethnicity', data=bd)\n"
   ]
  },
  {
   "cell_type": "markdown",
   "metadata": {},
   "source": [
    "Group B have more outliers as compared to other groups but Data points of group C are more numerically distant from rest of data."
   ]
  },
  {
   "cell_type": "code",
   "execution_count": 13,
   "metadata": {},
   "outputs": [
    {
     "data": {
      "text/plain": [
       "<matplotlib.axes._subplots.AxesSubplot at 0x223d71fbd88>"
      ]
     },
     "execution_count": 13,
     "metadata": {},
     "output_type": "execute_result"
    },
    {
     "data": {
      "image/png": "[encoded data removed]",
      "text/plain": [
       "<Figure size 432x288 with 1 Axes>"
      ]
     },
     "metadata": {
      "needs_background": "light"
     },
     "output_type": "display_data"
    }
   ],
   "source": [
    "sns.boxplot(x='math score',y='lunch', data=bd)\n"
   ]
  },
  {
   "cell_type": "markdown",
   "metadata": {},
   "source": [
    "Students having free/reduced lunch have more scattered math marks"
   ]
  },
  {
   "cell_type": "code",
   "execution_count": 14,
   "metadata": {},
   "outputs": [
    {
     "data": {
      "text/plain": [
       "<matplotlib.axes._subplots.AxesSubplot at 0x223d7278ec8>"
      ]
     },
     "execution_count": 14,
     "metadata": {},
     "output_type": "execute_result"
    },
    {
     "data": {
      "image/png": "[encoded data removed]",
      "text/plain": [
       "<Figure size 432x288 with 1 Axes>"
      ]
     },
     "metadata": {
      "needs_background": "light"
     },
     "output_type": "display_data"
    }
   ],
   "source": [
    "sns.boxplot(x='math score',y='parental level of education', data=bd)\n"
   ]
  },
  {
   "cell_type": "markdown",
   "metadata": {},
   "source": [
    "Students whose parents are from some college have more outliers but data points of students whose parents are from high school and some high school are more distant."
   ]
  },
  {
   "cell_type": "code",
   "execution_count": 15,
   "metadata": {},
   "outputs": [
    {
     "data": {
      "text/plain": [
       "<matplotlib.axes._subplots.AxesSubplot at 0x223d7352d48>"
      ]
     },
     "execution_count": 15,
     "metadata": {},
     "output_type": "execute_result"
    },
    {
     "data": {
      "image/png": "[encoded data removed]",
      "text/plain": [
       "<Figure size 432x288 with 1 Axes>"
      ]
     },
     "metadata": {
      "needs_background": "light"
     },
     "output_type": "display_data"
    }
   ],
   "source": [
    "#comparison of other with reading score\n",
    "sns.boxplot(x='reading score',y='test preparation course', data=bd)\n"
   ]
  },
  {
   "cell_type": "markdown",
   "metadata": {},
   "source": [
    "Reading score of students who completed their test preparation course have no outliers while Reading score of students who don't have their test preparation course are scattered."
   ]
  },
  {
   "cell_type": "code",
   "execution_count": 16,
   "metadata": {},
   "outputs": [
    {
     "data": {
      "text/plain": [
       "<matplotlib.axes._subplots.AxesSubplot at 0x223d728c408>"
      ]
     },
     "execution_count": 16,
     "metadata": {},
     "output_type": "execute_result"
    },
    {
     "data": {
      "image/png": "[encoded data removed]",
      "text/plain": [
       "<Figure size 432x288 with 1 Axes>"
      ]
     },
     "metadata": {
      "needs_background": "light"
     },
     "output_type": "display_data"
    }
   ],
   "source": [
    "sns.boxplot(x='reading score',y='gender', data=bd)\n"
   ]
  },
  {
   "cell_type": "markdown",
   "metadata": {},
   "source": [
    "Reading scores of female students are more scattered as compared to male students."
   ]
  },
  {
   "cell_type": "code",
   "execution_count": 17,
   "metadata": {},
   "outputs": [
    {
     "data": {
      "text/plain": [
       "<matplotlib.axes._subplots.AxesSubplot at 0x223d7445648>"
      ]
     },
     "execution_count": 17,
     "metadata": {},
     "output_type": "execute_result"
    },
    {
     "data": {
      "image/png": "[encoded data removed]",
      "text/plain": [
       "<Figure size 432x288 with 1 Axes>"
      ]
     },
     "metadata": {
      "needs_background": "light"
     },
     "output_type": "display_data"
    }
   ],
   "source": [
    "sns.boxplot(x='reading score',y='race/ethnicity', data=bd)\n",
    "\n"
   ]
  },
  {
   "cell_type": "markdown",
   "metadata": {},
   "source": [
    "Large no of students of group C have  marks which are numerically distant from rest while group A and B have no outliers."
   ]
  },
  {
   "cell_type": "code",
   "execution_count": 18,
   "metadata": {},
   "outputs": [
    {
     "data": {
      "text/plain": [
       "<matplotlib.axes._subplots.AxesSubplot at 0x223d74fc348>"
      ]
     },
     "execution_count": 18,
     "metadata": {},
     "output_type": "execute_result"
    },
    {
     "data": {
      "image/png": "[encoded data removed]",
      "text/plain": [
       "<Figure size 432x288 with 1 Axes>"
      ]
     },
     "metadata": {
      "needs_background": "light"
     },
     "output_type": "display_data"
    }
   ],
   "source": [
    "sns.boxplot(x='reading score',y='lunch', data=bd)\n"
   ]
  },
  {
   "cell_type": "markdown",
   "metadata": {},
   "source": [
    "Students having standard lunch have more scattered reading marks."
   ]
  },
  {
   "cell_type": "code",
   "execution_count": 20,
   "metadata": {},
   "outputs": [
    {
     "data": {
      "text/plain": [
       "<matplotlib.axes._subplots.AxesSubplot at 0x223d7650bc8>"
      ]
     },
     "execution_count": 20,
     "metadata": {},
     "output_type": "execute_result"
    },
    {
     "data": {
      "image/png": "[encoded data removed]",
      "text/plain": [
       "<Figure size 432x288 with 1 Axes>"
      ]
     },
     "metadata": {
      "needs_background": "light"
     },
     "output_type": "display_data"
    }
   ],
   "source": [
    "sns.boxplot(x='reading score',y='parental level of education', data=bd)\n"
   ]
  },
  {
   "cell_type": "markdown",
   "metadata": {},
   "source": [
    "Only students whose parents have degree from some college and some high school have outliers."
   ]
  },
  {
   "cell_type": "code",
   "execution_count": 21,
   "metadata": {},
   "outputs": [
    {
     "data": {
      "text/plain": [
       "<matplotlib.axes._subplots.AxesSubplot at 0x223d86d4848>"
      ]
     },
     "execution_count": 21,
     "metadata": {},
     "output_type": "execute_result"
    },
    {
     "data": {
      "image/png": "[encoded data removed]",
      "text/plain": [
       "<Figure size 432x288 with 1 Axes>"
      ]
     },
     "metadata": {
      "needs_background": "light"
     },
     "output_type": "display_data"
    }
   ],
   "source": [
    "#comparison of other with writing score\n",
    "sns.boxplot(x='writing score',y='test preparation course', data=bd)\n"
   ]
  },
  {
   "cell_type": "markdown",
   "metadata": {},
   "source": [
    "Writing score of students who don't have test preparation course have more outliers."
   ]
  },
  {
   "cell_type": "code",
   "execution_count": 22,
   "metadata": {},
   "outputs": [
    {
     "data": {
      "text/plain": [
       "<matplotlib.axes._subplots.AxesSubplot at 0x223d8763688>"
      ]
     },
     "execution_count": 22,
     "metadata": {},
     "output_type": "execute_result"
    },
    {
     "data": {
      "image/png": "[encoded data removed]",
      "text/plain": [
       "<Figure size 432x288 with 1 Axes>"
      ]
     },
     "metadata": {
      "needs_background": "light"
     },
     "output_type": "display_data"
    }
   ],
   "source": [
    "sns.boxplot(x='writing score',y='gender', data=bd)\n"
   ]
  },
  {
   "cell_type": "markdown",
   "metadata": {},
   "source": [
    "Writing scores of female students are more scattered as compared to male students."
   ]
  },
  {
   "cell_type": "code",
   "execution_count": 23,
   "metadata": {},
   "outputs": [
    {
     "data": {
      "text/plain": [
       "<matplotlib.axes._subplots.AxesSubplot at 0x223d87dcb88>"
      ]
     },
     "execution_count": 23,
     "metadata": {},
     "output_type": "execute_result"
    },
    {
     "data": {
      "image/png": "[encoded data removed]",
      "text/plain": [
       "<Figure size 432x288 with 1 Axes>"
      ]
     },
     "metadata": {
      "needs_background": "light"
     },
     "output_type": "display_data"
    }
   ],
   "source": [
    "sns.boxplot(x='writing score',y='race/ethnicity', data=bd)\n"
   ]
  },
  {
   "cell_type": "markdown",
   "metadata": {},
   "source": [
    "Students of group C and E have more scattered marks."
   ]
  },
  {
   "cell_type": "code",
   "execution_count": 24,
   "metadata": {},
   "outputs": [
    {
     "data": {
      "text/plain": [
       "<matplotlib.axes._subplots.AxesSubplot at 0x223d49a9508>"
      ]
     },
     "execution_count": 24,
     "metadata": {},
     "output_type": "execute_result"
    },
    {
     "data": {
      "image/png": "[encoded data removed]",
      "text/plain": [
       "<Figure size 432x288 with 1 Axes>"
      ]
     },
     "metadata": {
      "needs_background": "light"
     },
     "output_type": "display_data"
    }
   ],
   "source": [
    "sns.boxplot(x='writing score',y='lunch', data=bd)"
   ]
  },
  {
   "cell_type": "markdown",
   "metadata": {},
   "source": [
    "Students having free/reduced lunch have evenly scattered writing marks"
   ]
  },
  {
   "cell_type": "code",
   "execution_count": 25,
   "metadata": {},
   "outputs": [
    {
     "data": {
      "text/plain": [
       "<matplotlib.axes._subplots.AxesSubplot at 0x223d88fcf08>"
      ]
     },
     "execution_count": 25,
     "metadata": {},
     "output_type": "execute_result"
    },
    {
     "data": {
      "image/png": "[encoded data removed]",
      "text/plain": [
       "<Figure size 432x288 with 1 Axes>"
      ]
     },
     "metadata": {
      "needs_background": "light"
     },
     "output_type": "display_data"
    }
   ],
   "source": [
    "sns.boxplot(x='writing score',y='parental level of education', data=bd)"
   ]
  },
  {
   "cell_type": "code",
   "execution_count": null,
   "metadata": {},
   "outputs": [],
   "source": [
    "Students whose parents have degree from some college , high school and some high school have outliers."
   ]
  },
  {
   "cell_type": "markdown",
   "metadata": {},
   "source": [
    "## Inferential Statistics"
   ]
  },
  {
   "cell_type": "code",
   "execution_count": 34,
   "metadata": {},
   "outputs": [
    {
     "name": "stdout",
     "output_type": "stream",
     "text": [
      "Probability of Students Scoring more than 50 marks in Maths : 85.0\n"
     ]
    }
   ],
   "source": [
    "#Probability of Students who score more than 50 percent marks in maths\n",
    "total = bd.shape[0]\n",
    "students_score = bd[bd['math score'] > 50].shape[0]\n",
    "\n",
    "probability_of_students = (students_score/total)*100\n",
    "print(\"Probability of Students Scoring more than 50 marks in Maths :\", probability_of_students)"
   ]
  },
  {
   "cell_type": "code",
   "execution_count": 35,
   "metadata": {},
   "outputs": [
    {
     "name": "stdout",
     "output_type": "stream",
     "text": [
      "Probability of Students Scoring more than 50 marks in Reading : 90.3\n"
     ]
    }
   ],
   "source": [
    "#Probability of Students who score more than 50 percent marks in reading\n",
    "total = bd.shape[0]\n",
    "students_score = bd[bd['reading score'] > 50].shape[0]\n",
    "\n",
    "probability_of_students = (students_score/total)*100\n",
    "print(\"Probability of Students Scoring more than 50 marks in Reading :\", probability_of_students)"
   ]
  },
  {
   "cell_type": "code",
   "execution_count": 36,
   "metadata": {},
   "outputs": [
    {
     "name": "stdout",
     "output_type": "stream",
     "text": [
      "Probability of Students Scoring more than 50 marks in Writing : 87.6\n"
     ]
    }
   ],
   "source": [
    "#Probability of Students who score more than 50 percent marks in writing\n",
    "total = bd.shape[0]\n",
    "students_score = bd[bd['writing score'] > 50].shape[0]\n",
    "\n",
    "probability_of_students = (students_score/total)*100\n",
    "print(\"Probability of Students Scoring more than 50 marks in Writing :\", probability_of_students)"
   ]
  },
  {
   "cell_type": "code",
   "execution_count": 37,
   "metadata": {},
   "outputs": [
    {
     "name": "stdout",
     "output_type": "stream",
     "text": [
      "Probability of Students Scoring more than 90 marks in Maths : 5.0\n"
     ]
    }
   ],
   "source": [
    "#Probability of Students who score more than 90 percent marks in maths\n",
    "total = bd.shape[0]\n",
    "students_score = bd[bd['math score'] > 90].shape[0]\n",
    "\n",
    "probability_of_students = (students_score/total)*100\n",
    "print(\"Probability of Students Scoring more than 90 marks in Maths :\", probability_of_students)"
   ]
  },
  {
   "cell_type": "code",
   "execution_count": 38,
   "metadata": {},
   "outputs": [
    {
     "name": "stdout",
     "output_type": "stream",
     "text": [
      "Probability of Students Scoring more than 90 marks in Maths : 6.2\n"
     ]
    }
   ],
   "source": [
    "#Probability of Students who score more than 90 percent marks in reading\n",
    "total = bd.shape[0]\n",
    "students_score = bd[bd['reading score'] > 90].shape[0]\n",
    "\n",
    "probability_of_students = (students_score/total)*100\n",
    "print(\"Probability of Students Scoring more than 90 marks in reading :\", probability_of_students)"
   ]
  },
  {
   "cell_type": "code",
   "execution_count": 39,
   "metadata": {},
   "outputs": [
    {
     "name": "stdout",
     "output_type": "stream",
     "text": [
      "Probability of Students Scoring more than 90 marks in writing : 6.800000000000001\n"
     ]
    }
   ],
   "source": [
    "#Probability of Students who score more than 90 percent marks in writing\n",
    "total = bd.shape[0]\n",
    "students_score = bd[bd['writing score'] > 90].shape[0]\n",
    "\n",
    "probability_of_students = (students_score/total)*100\n",
    "print(\"Probability of Students Scoring more than 90 marks in writing :\", probability_of_students)"
   ]
  },
  {
   "cell_type": "code",
   "execution_count": 41,
   "metadata": {},
   "outputs": [
    {
     "name": "stdout",
     "output_type": "stream",
     "text": [
      "Probability of Students Scoring more than 95 marks in 3 subjects : 1.0\n"
     ]
    }
   ],
   "source": [
    "#Probability of Students who score more than 95 percent marks in three subjects\n",
    "total = bd.shape[0]\n",
    "students_score = bd[(bd['math score'] > 95) &(bd['writing score'] > 95) & (bd['reading score'] >95)].shape[0]\n",
    "\n",
    "probability_of_students = (students_score/total)*100\n",
    "print(\"Probability of Students Scoring more than 95 marks in 3 subjects :\", probability_of_students)"
   ]
  },
  {
   "cell_type": "code",
   "execution_count": 42,
   "metadata": {},
   "outputs": [
    {
     "name": "stdout",
     "output_type": "stream",
     "text": [
      "Probability of Students passing all 3 subjects : 97.7\n"
     ]
    }
   ],
   "source": [
    "#Probability of Students passsing all three subjects\n",
    "total = bd.shape[0]\n",
    "students_score = bd[(bd['math score'] > 33) &(bd['writing score'] > 33) & (bd['reading score'] >33)].shape[0]\n",
    "\n",
    "probability_of_students = (students_score/total)*100\n",
    "print(\"Probability of Students passing all 3 subjects :\", probability_of_students)"
   ]
  },
  {
   "cell_type": "code",
   "execution_count": 34,
   "metadata": {},
   "outputs": [
    {
     "name": "stdout",
     "output_type": "stream",
     "text": [
      "Probability of girls Scoring more than 90 marks in 3 subjects : 1.7000000000000002\n"
     ]
    }
   ],
   "source": [
    "#Probability of girls who score more than 90 percent marks in three subjects\n",
    "total = bd.shape[0]\n",
    "students_score = bd[(bd['gender'] == 'female') &(bd['math score'] > 90) &(bd['writing score'] > 90) & (bd['reading score'] >90)].shape[0]\n",
    "\n",
    "probability_of_students = (students_score/total)*100\n",
    "print(\"Probability of girls Scoring more than 90 marks in 3 subjects :\", probability_of_students)"
   ]
  },
  {
   "cell_type": "code",
   "execution_count": 33,
   "metadata": {},
   "outputs": [
    {
     "name": "stdout",
     "output_type": "stream",
     "text": [
      "Probability of girls passing all the 3 subjects : 50.2\n"
     ]
    }
   ],
   "source": [
    "#Probability of girls passing all the  three subjects\n",
    "total = bd.shape[0]\n",
    "students_score = bd[(bd['gender'] == 'female') &(bd['math score'] > 33) &(bd['writing score'] > 33) & (bd['reading score'] >33)].shape[0]\n",
    "\n",
    "probability_of_students = (students_score/total)*100\n",
    "print(\"Probability of girls passing all the 3 subjects :\", probability_of_students)"
   ]
  },
  {
   "cell_type": "code",
   "execution_count": null,
   "metadata": {},
   "outputs": [],
   "source": []
  }
 ],
 "metadata": {
  "kernelspec": {
   "display_name": "Python 3",
   "language": "python",
   "name": "python3"
  },
  "language_info": {
   "codemirror_mode": {
    "name": "ipython",
    "version": 3
   },
   "file_extension": ".py",
   "mimetype": "text/x-python",
   "name": "python",
   "nbconvert_exporter": "python",
   "pygments_lexer": "ipython3",
   "version": "3.7.6"
  }
 },
 "nbformat": 4,
 "nbformat_minor": 4
}
